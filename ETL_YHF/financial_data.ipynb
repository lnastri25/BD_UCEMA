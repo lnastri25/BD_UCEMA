{
  "cells": [
    {
      "attachments": {},
      "cell_type": "markdown",
      "metadata": {},
      "source": [
        "### API Yahoo Finance"
      ]
    },
    {
      "cell_type": "code",
      "execution_count": 1,
      "metadata": {
        "colab": {
          "base_uri": "https://localhost:8080/"
        },
        "id": "kH2pZDGs8GLT",
        "outputId": "0a790e06-1262-4f84-a181-09f08db19c77"
      },
      "outputs": [],
      "source": [
        "# previamente se  instala las siguientes librerias \"yfinance\"."
      ]
    },
    {
      "cell_type": "code",
      "execution_count": 2,
      "metadata": {
        "id": "sRISs0cH-l50"
      },
      "outputs": [
        {
          "name": "stdout",
          "output_type": "stream",
          "text": [
            "Intel MKL WARNING: Support of Intel(R) Streaming SIMD Extensions 4.2 (Intel(R) SSE4.2) enabled only processors has been deprecated. Intel oneAPI Math Kernel Library 2025.0 will require Intel(R) Advanced Vector Extensions (Intel(R) AVX) instructions.\n",
            "Intel MKL WARNING: Support of Intel(R) Streaming SIMD Extensions 4.2 (Intel(R) SSE4.2) enabled only processors has been deprecated. Intel oneAPI Math Kernel Library 2025.0 will require Intel(R) Advanced Vector Extensions (Intel(R) AVX) instructions.\n"
          ]
        }
      ],
      "source": [
        "# librería para descargar con yahoo finance\n",
        "import yfinance as yf\n",
        "# librería para manipular dataframes\n",
        "import pandas as pd\n",
        "# librería para manipular fechas\n",
        "import datetime as dt"
      ]
    },
    {
      "cell_type": "code",
      "execution_count": 2,
      "metadata": {
        "id": "u-QUSDyEJWPs"
      },
      "outputs": [],
      "source": [
        "# Diccionario con las empresas de las que se traen los datos\n",
        "dict_Empresas = {\n",
        "    \"Apple\": \"AAPL\",\n",
        "    \"Microsoft\": \"MSFT\",\n",
        "    \"Meta\": \"META\",\n",
        "    \"Tesla\": \"TSLA\",\n",
        "\n",
        "    # Algunas sugerencias:\n",
        "    \n",
        "    #\"Alphabet\": \"GOOGL\",\n",
        "    #\"Amazon\": \"AMZN\",\n",
        "    #\"JPMorgan\": \"JPM\",\n",
        "    #\"Johnson & Johnson\": \"JNJ\",\n",
        "    #\"Walmart\": \"WMT\"\n",
        "    }"
      ]
    },
    {
      "cell_type": "code",
      "execution_count": 4,
      "metadata": {
        "colab": {
          "base_uri": "https://localhost:8080/"
        },
        "id": "rCNArHJtENTV",
        "outputId": "42e874e6-96b2-4c22-a5c2-ef3b74a33065"
      },
      "outputs": [
        {
          "name": "stdout",
          "output_type": "stream",
          "text": [
            "[*********************100%***********************]  1 of 1 completed\n",
            "Archivo Apple cargado exitosamente.\n",
            "[*********************100%***********************]  1 of 1 completed\n",
            "Archivo Microsoft cargado exitosamente.\n",
            "[*********************100%***********************]  1 of 1 completed\n",
            "Archivo Meta cargado exitosamente.\n",
            "[*********************100%***********************]  1 of 1 completed\n",
            "Archivo Tesla cargado exitosamente.\n"
          ]
        }
      ],
      "source": [
        "# Mediante un bucle, se toman los datos de cada empresa y se guardan en la carpeta Datasets\n",
        "# Cada key es el nombre de la empresa, y value es la abreviación para tomar los datos desde finance\n",
        "for key, value in dict_Empresas.items():\n",
        "    # Se descargan los datos desde 01/01/23 hasta hoy\n",
        "    Dataset = yf.download(value, start = dt.date(2023,1,1), end = dt.date.today())\n",
        "\n",
        "    # Se guardan en un archivo con el nombre de la empresa\n",
        "    Dataset.to_csv(f\"Datasets/{key}.csv\")\n",
        "\n",
        "    # Se imprime en pantalla un mensaje de confirmacion\n",
        "    print(f\"Archivo {key} cargado exitosamente.\")"
      ]
    },
    {
      "attachments": {},
      "cell_type": "markdown",
      "metadata": {},
      "source": [
        "### SQL"
      ]
    },
    {
      "cell_type": "code",
      "execution_count": 5,
      "metadata": {},
      "outputs": [],
      "source": [
        "import sqlite3\n",
        "\n",
        "# Conexión a la base de datos\n",
        "conn = sqlite3.connect('./Database/test.db')\n",
        "conn.close()\n"
      ]
    },
    {
      "cell_type": "code",
      "execution_count": 6,
      "metadata": {},
      "outputs": [
        {
          "data": {
            "text/html": [
              "<div>\n",
              "<style scoped>\n",
              "    .dataframe tbody tr th:only-of-type {\n",
              "        vertical-align: middle;\n",
              "    }\n",
              "\n",
              "    .dataframe tbody tr th {\n",
              "        vertical-align: top;\n",
              "    }\n",
              "\n",
              "    .dataframe thead th {\n",
              "        text-align: right;\n",
              "    }\n",
              "</style>\n",
              "<table border=\"1\" class=\"dataframe\">\n",
              "  <thead>\n",
              "    <tr style=\"text-align: right;\">\n",
              "      <th></th>\n",
              "      <th>Open</th>\n",
              "      <th>High</th>\n",
              "      <th>Low</th>\n",
              "      <th>Close</th>\n",
              "      <th>Adj Close</th>\n",
              "      <th>Volume</th>\n",
              "    </tr>\n",
              "    <tr>\n",
              "      <th>Date</th>\n",
              "      <th></th>\n",
              "      <th></th>\n",
              "      <th></th>\n",
              "      <th></th>\n",
              "      <th></th>\n",
              "      <th></th>\n",
              "    </tr>\n",
              "  </thead>\n",
              "  <tbody>\n",
              "    <tr>\n",
              "      <th>2023-01-03</th>\n",
              "      <td>118.470001</td>\n",
              "      <td>118.800003</td>\n",
              "      <td>104.639999</td>\n",
              "      <td>108.099998</td>\n",
              "      <td>108.099998</td>\n",
              "      <td>231402800</td>\n",
              "    </tr>\n",
              "    <tr>\n",
              "      <th>2023-01-04</th>\n",
              "      <td>109.110001</td>\n",
              "      <td>114.589996</td>\n",
              "      <td>107.519997</td>\n",
              "      <td>113.639999</td>\n",
              "      <td>113.639999</td>\n",
              "      <td>180389000</td>\n",
              "    </tr>\n",
              "    <tr>\n",
              "      <th>2023-01-05</th>\n",
              "      <td>110.510002</td>\n",
              "      <td>111.750000</td>\n",
              "      <td>107.160004</td>\n",
              "      <td>110.339996</td>\n",
              "      <td>110.339996</td>\n",
              "      <td>157986300</td>\n",
              "    </tr>\n",
              "    <tr>\n",
              "      <th>2023-01-06</th>\n",
              "      <td>103.000000</td>\n",
              "      <td>114.389999</td>\n",
              "      <td>101.809998</td>\n",
              "      <td>113.059998</td>\n",
              "      <td>113.059998</td>\n",
              "      <td>220911100</td>\n",
              "    </tr>\n",
              "    <tr>\n",
              "      <th>2023-01-09</th>\n",
              "      <td>118.959999</td>\n",
              "      <td>123.519997</td>\n",
              "      <td>117.110001</td>\n",
              "      <td>119.769997</td>\n",
              "      <td>119.769997</td>\n",
              "      <td>190284000</td>\n",
              "    </tr>\n",
              "    <tr>\n",
              "      <th>...</th>\n",
              "      <td>...</td>\n",
              "      <td>...</td>\n",
              "      <td>...</td>\n",
              "      <td>...</td>\n",
              "      <td>...</td>\n",
              "      <td>...</td>\n",
              "    </tr>\n",
              "    <tr>\n",
              "      <th>2023-04-27</th>\n",
              "      <td>152.639999</td>\n",
              "      <td>160.479996</td>\n",
              "      <td>152.369995</td>\n",
              "      <td>160.190002</td>\n",
              "      <td>160.190002</td>\n",
              "      <td>127015200</td>\n",
              "    </tr>\n",
              "    <tr>\n",
              "      <th>2023-04-28</th>\n",
              "      <td>160.899994</td>\n",
              "      <td>165.000000</td>\n",
              "      <td>157.320007</td>\n",
              "      <td>164.309998</td>\n",
              "      <td>164.309998</td>\n",
              "      <td>122515800</td>\n",
              "    </tr>\n",
              "    <tr>\n",
              "      <th>2023-05-01</th>\n",
              "      <td>163.169998</td>\n",
              "      <td>163.279999</td>\n",
              "      <td>158.830002</td>\n",
              "      <td>161.830002</td>\n",
              "      <td>161.830002</td>\n",
              "      <td>109015000</td>\n",
              "    </tr>\n",
              "    <tr>\n",
              "      <th>2023-05-02</th>\n",
              "      <td>161.880005</td>\n",
              "      <td>165.490005</td>\n",
              "      <td>158.929993</td>\n",
              "      <td>160.309998</td>\n",
              "      <td>160.309998</td>\n",
              "      <td>128259700</td>\n",
              "    </tr>\n",
              "    <tr>\n",
              "      <th>2023-05-03</th>\n",
              "      <td>160.009995</td>\n",
              "      <td>165.000000</td>\n",
              "      <td>159.910004</td>\n",
              "      <td>160.610001</td>\n",
              "      <td>160.610001</td>\n",
              "      <td>119380800</td>\n",
              "    </tr>\n",
              "  </tbody>\n",
              "</table>\n",
              "<p>84 rows × 6 columns</p>\n",
              "</div>"
            ],
            "text/plain": [
              "                  Open        High         Low       Close   Adj Close   \n",
              "Date                                                                     \n",
              "2023-01-03  118.470001  118.800003  104.639999  108.099998  108.099998  \\\n",
              "2023-01-04  109.110001  114.589996  107.519997  113.639999  113.639999   \n",
              "2023-01-05  110.510002  111.750000  107.160004  110.339996  110.339996   \n",
              "2023-01-06  103.000000  114.389999  101.809998  113.059998  113.059998   \n",
              "2023-01-09  118.959999  123.519997  117.110001  119.769997  119.769997   \n",
              "...                ...         ...         ...         ...         ...   \n",
              "2023-04-27  152.639999  160.479996  152.369995  160.190002  160.190002   \n",
              "2023-04-28  160.899994  165.000000  157.320007  164.309998  164.309998   \n",
              "2023-05-01  163.169998  163.279999  158.830002  161.830002  161.830002   \n",
              "2023-05-02  161.880005  165.490005  158.929993  160.309998  160.309998   \n",
              "2023-05-03  160.009995  165.000000  159.910004  160.610001  160.610001   \n",
              "\n",
              "               Volume  \n",
              "Date                   \n",
              "2023-01-03  231402800  \n",
              "2023-01-04  180389000  \n",
              "2023-01-05  157986300  \n",
              "2023-01-06  220911100  \n",
              "2023-01-09  190284000  \n",
              "...               ...  \n",
              "2023-04-27  127015200  \n",
              "2023-04-28  122515800  \n",
              "2023-05-01  109015000  \n",
              "2023-05-02  128259700  \n",
              "2023-05-03  119380800  \n",
              "\n",
              "[84 rows x 6 columns]"
            ]
          },
          "execution_count": 6,
          "metadata": {},
          "output_type": "execute_result"
        }
      ],
      "source": [
        "Dataset\n",
        "#Que es?"
      ]
    },
    {
      "cell_type": "code",
      "execution_count": 9,
      "metadata": {},
      "outputs": [
        {
          "data": {
            "text/plain": [
              "['Apple.csv', 'Meta.csv', 'Microsoft.csv', 'Tesla.csv']"
            ]
          },
          "execution_count": 9,
          "metadata": {},
          "output_type": "execute_result"
        }
      ],
      "source": [
        "import os\n",
        "\n",
        "# Carpeta con los archivos CSV\n",
        "folder_path = './Datasets'\n",
        "\n",
        "# Obtener la lista de archivos en la carpeta\n",
        "files = os.listdir(folder_path)\n",
        "\n",
        "files"
      ]
    },
    {
      "cell_type": "code",
      "execution_count": 12,
      "metadata": {},
      "outputs": [
        {
          "data": {
            "text/html": [
              "<div>\n",
              "<style scoped>\n",
              "    .dataframe tbody tr th:only-of-type {\n",
              "        vertical-align: middle;\n",
              "    }\n",
              "\n",
              "    .dataframe tbody tr th {\n",
              "        vertical-align: top;\n",
              "    }\n",
              "\n",
              "    .dataframe thead th {\n",
              "        text-align: right;\n",
              "    }\n",
              "</style>\n",
              "<table border=\"1\" class=\"dataframe\">\n",
              "  <thead>\n",
              "    <tr style=\"text-align: right;\">\n",
              "      <th></th>\n",
              "      <th>Date</th>\n",
              "      <th>Open</th>\n",
              "      <th>High</th>\n",
              "      <th>Low</th>\n",
              "      <th>Close</th>\n",
              "      <th>Adj Close</th>\n",
              "      <th>Volume</th>\n",
              "      <th>Empresa</th>\n",
              "    </tr>\n",
              "  </thead>\n",
              "  <tbody>\n",
              "    <tr>\n",
              "      <th>0</th>\n",
              "      <td>2023-01-03</td>\n",
              "      <td>130.279999</td>\n",
              "      <td>130.899994</td>\n",
              "      <td>124.169998</td>\n",
              "      <td>125.070000</td>\n",
              "      <td>124.879326</td>\n",
              "      <td>112117500</td>\n",
              "      <td>Apple</td>\n",
              "    </tr>\n",
              "    <tr>\n",
              "      <th>1</th>\n",
              "      <td>2023-01-04</td>\n",
              "      <td>126.889999</td>\n",
              "      <td>128.660004</td>\n",
              "      <td>125.080002</td>\n",
              "      <td>126.360001</td>\n",
              "      <td>126.167366</td>\n",
              "      <td>89113600</td>\n",
              "      <td>Apple</td>\n",
              "    </tr>\n",
              "    <tr>\n",
              "      <th>2</th>\n",
              "      <td>2023-01-05</td>\n",
              "      <td>127.129997</td>\n",
              "      <td>127.769997</td>\n",
              "      <td>124.760002</td>\n",
              "      <td>125.019997</td>\n",
              "      <td>124.829399</td>\n",
              "      <td>80962700</td>\n",
              "      <td>Apple</td>\n",
              "    </tr>\n",
              "    <tr>\n",
              "      <th>3</th>\n",
              "      <td>2023-01-06</td>\n",
              "      <td>126.010002</td>\n",
              "      <td>130.289993</td>\n",
              "      <td>124.889999</td>\n",
              "      <td>129.619995</td>\n",
              "      <td>129.422394</td>\n",
              "      <td>87754700</td>\n",
              "      <td>Apple</td>\n",
              "    </tr>\n",
              "    <tr>\n",
              "      <th>4</th>\n",
              "      <td>2023-01-09</td>\n",
              "      <td>130.470001</td>\n",
              "      <td>133.410004</td>\n",
              "      <td>129.889999</td>\n",
              "      <td>130.149994</td>\n",
              "      <td>129.951584</td>\n",
              "      <td>70790800</td>\n",
              "      <td>Apple</td>\n",
              "    </tr>\n",
              "  </tbody>\n",
              "</table>\n",
              "</div>"
            ],
            "text/plain": [
              "         Date        Open        High         Low       Close   Adj Close   \n",
              "0  2023-01-03  130.279999  130.899994  124.169998  125.070000  124.879326  \\\n",
              "1  2023-01-04  126.889999  128.660004  125.080002  126.360001  126.167366   \n",
              "2  2023-01-05  127.129997  127.769997  124.760002  125.019997  124.829399   \n",
              "3  2023-01-06  126.010002  130.289993  124.889999  129.619995  129.422394   \n",
              "4  2023-01-09  130.470001  133.410004  129.889999  130.149994  129.951584   \n",
              "\n",
              "      Volume Empresa  \n",
              "0  112117500   Apple  \n",
              "1   89113600   Apple  \n",
              "2   80962700   Apple  \n",
              "3   87754700   Apple  \n",
              "4   70790800   Apple  "
            ]
          },
          "execution_count": 12,
          "metadata": {},
          "output_type": "execute_result"
        }
      ],
      "source": [
        "# Lista para almacenar los DataFrames de cada archivo CSV\n",
        "dfs = []\n",
        "\n",
        "# Leer cada archivo CSV en un DataFrame y agregarlo a la lista\n",
        "for file in files:\n",
        "    if file.endswith('.csv'):\n",
        "        file_path = os.path.join(folder_path, file)\n",
        "        df = pd.read_csv(file_path)\n",
        "        df['Empresa'] = file.split('.')[0]\n",
        "        dfs.append(df)\n",
        "\n",
        "# Concatenar los DataFrames en uno solo\n",
        "result = pd.concat(dfs, ignore_index=True)\n",
        "\n",
        "# Imprimir el resultado\n",
        "result.head()"
      ]
    },
    {
      "cell_type": "code",
      "execution_count": 14,
      "metadata": {},
      "outputs": [
        {
          "name": "stdout",
          "output_type": "stream",
          "text": [
            "Connected to SQLite\n"
          ]
        }
      ],
      "source": [
        "DB = './Database/stock_db.db'\n",
        "conn = sqlite3.connect(DB)\n",
        "print(\"Connected to SQLite\")\n",
        "conn.close()"
      ]
    },
    {
      "cell_type": "code",
      "execution_count": 18,
      "metadata": {},
      "outputs": [
        {
          "name": "stdout",
          "output_type": "stream",
          "text": [
            "Connected to SQLite\n"
          ]
        }
      ],
      "source": [
        "DB = './Database/stock_db.db'\n",
        "conn = sqlite3.connect(DB)\n",
        "print(\"Connected to SQLite\")\n",
        "result.to_sql('main', conn, schema=None, \n",
        "              if_exists='append')\n",
        "conn.close()"
      ]
    },
    {
      "cell_type": "code",
      "execution_count": 19,
      "metadata": {},
      "outputs": [
        {
          "name": "stdout",
          "output_type": "stream",
          "text": [
            "Connected to SQLite\n"
          ]
        },
        {
          "data": {
            "text/plain": [
              "336"
            ]
          },
          "execution_count": 19,
          "metadata": {},
          "output_type": "execute_result"
        }
      ],
      "source": [
        "DB = './Database/stock_db.db'\n",
        "conn = sqlite3.connect(DB)\n",
        "print(\"Connected to SQLite\")\n",
        "result.to_sql('main', conn, schema=None, \n",
        "              if_exists='replace')"
      ]
    },
    {
      "cell_type": "code",
      "execution_count": 20,
      "metadata": {},
      "outputs": [],
      "source": [
        "# Creo una función que haga todo:\n",
        "\n",
        "def write_sql_main(DB, df, table):\n",
        "\t\"\"\"Esta funcion inserta masivamente un df o una lista de tuplas en SQL.\"\"\"\n",
        "\ttry:\n",
        "\t\tconn = sqlite3.connect(DB)\n",
        "\t\tprint(\"Connected to SQLite\")\n",
        "\t\tdf.to_sql(table, conn, schema=None, if_exists='append', index=False, index_label=None, chunksize=None, dtype=None, method=None)\n",
        "\t\tresult = 'ok'\n",
        "\texcept sqlite3.Error as error:\n",
        "\t\tprint(\"Failed to insert multiple records into sqlite table\", error)\n",
        "\t\tresult = 'failed'\n",
        "\tfinally:\n",
        "\t\tif conn:\n",
        "\t\t\tconn.close()\n",
        "\t\t\tprint(\"The SQLite connection is closed\")\n",
        "\treturn result"
      ]
    },
    {
      "cell_type": "code",
      "execution_count": 21,
      "metadata": {},
      "outputs": [
        {
          "name": "stdout",
          "output_type": "stream",
          "text": [
            "Connected to SQLite\n",
            "The SQLite connection is closed\n"
          ]
        },
        {
          "data": {
            "text/plain": [
              "'ok'"
            ]
          },
          "execution_count": 21,
          "metadata": {},
          "output_type": "execute_result"
        }
      ],
      "source": [
        "write_sql_main(DB=DB, df = result, table = 'main2')"
      ]
    },
    {
      "cell_type": "code",
      "execution_count": null,
      "metadata": {},
      "outputs": [],
      "source": []
    }
  ],
  "metadata": {
    "colab": {
      "provenance": []
    },
    "kernelspec": {
      "display_name": "Python 3",
      "language": "python",
      "name": "python3"
    },
    "language_info": {
      "codemirror_mode": {
        "name": "ipython",
        "version": 3
      },
      "file_extension": ".py",
      "mimetype": "text/x-python",
      "name": "python",
      "nbconvert_exporter": "python",
      "pygments_lexer": "ipython3",
      "version": "3.11.5"
    },
    "vscode": {
      "interpreter": {
        "hash": "270c9063d07a28851ba69880084a5f01ac42db4cf4cee14f4c49c73ecb745236"
      }
    }
  },
  "nbformat": 4,
  "nbformat_minor": 0
}
