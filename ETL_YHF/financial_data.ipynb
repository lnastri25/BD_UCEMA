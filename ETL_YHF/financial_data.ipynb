{
  "cells": [
    {
      "attachments": {},
      "cell_type": "markdown",
      "metadata": {},
      "source": [
        "### API Yahoo Finance"
      ]
    },
    {
      "cell_type": "code",
      "execution_count": 85,
      "metadata": {
        "colab": {
          "base_uri": "https://localhost:8080/"
        },
        "id": "kH2pZDGs8GLT",
        "outputId": "0a790e06-1262-4f84-a181-09f08db19c77"
      },
      "outputs": [],
      "source": [
        "# previamente se  instala las siguientes librerias \"yfinance\"."
      ]
    },
    {
      "cell_type": "code",
      "execution_count": 86,
      "metadata": {
        "id": "sRISs0cH-l50"
      },
      "outputs": [],
      "source": [
        "# librería para descargar con yahoo finance\n",
        "import yfinance as yf\n",
        "# librería para manipular dataframes\n",
        "import pandas as pd\n",
        "# librería para manipular fechas\n",
        "import datetime as dt"
      ]
    },
    {
      "cell_type": "code",
      "execution_count": 87,
      "metadata": {
        "id": "u-QUSDyEJWPs"
      },
      "outputs": [],
      "source": [
        "# Diccionario con las empresas de las que se traen los datos\n",
        "dict_Empresas = {\n",
        "    \"Apple\": \"AAPL\",\n",
        "    \"Microsoft\": \"MSFT\",\n",
        "    \"Tesla\": \"TSLA\",\n",
        "    \"Amazon\" : \"AMZN\",\n",
        "    \"Alphabet\": \"GOOGL\",\n",
        "\n",
        "\n",
        "    # Algunas sugerencias:\n",
        "    \n",
        "    #\"JPMorgan\": \"JPM\",\n",
        "    #\"Johnson & Johnson\": \"JNJ\",\n",
        "    #\"Walmart\": \"WMT\"\n",
        "    }"
      ]
    },
    {
      "cell_type": "code",
      "execution_count": 88,
      "metadata": {},
      "outputs": [
        {
          "name": "stderr",
          "output_type": "stream",
          "text": [
            "[*********************100%%**********************]  1 of 1 completed\n"
          ]
        },
        {
          "name": "stdout",
          "output_type": "stream",
          "text": [
            "Archivo Apple cargado exitosamente.\n"
          ]
        },
        {
          "name": "stderr",
          "output_type": "stream",
          "text": [
            "[*********************100%%**********************]  1 of 1 completed\n"
          ]
        },
        {
          "name": "stdout",
          "output_type": "stream",
          "text": [
            "Archivo Microsoft cargado exitosamente.\n"
          ]
        },
        {
          "name": "stderr",
          "output_type": "stream",
          "text": [
            "[*********************100%%**********************]  1 of 1 completed\n"
          ]
        },
        {
          "name": "stdout",
          "output_type": "stream",
          "text": [
            "Archivo Tesla cargado exitosamente.\n"
          ]
        },
        {
          "name": "stderr",
          "output_type": "stream",
          "text": [
            "[*********************100%%**********************]  1 of 1 completed\n"
          ]
        },
        {
          "name": "stdout",
          "output_type": "stream",
          "text": [
            "Archivo Amazon cargado exitosamente.\n"
          ]
        },
        {
          "name": "stderr",
          "output_type": "stream",
          "text": [
            "[*********************100%%**********************]  1 of 1 completed"
          ]
        },
        {
          "name": "stdout",
          "output_type": "stream",
          "text": [
            "Archivo Alphabet cargado exitosamente.\n"
          ]
        },
        {
          "name": "stderr",
          "output_type": "stream",
          "text": [
            "\n"
          ]
        }
      ],
      "source": [
        "import os\n",
        "\n",
        "# Crear el directorio Datasets si no existe\n",
        "if not os.path.exists('Datasets'):\n",
        "    os.makedirs('Datasets')\n",
        "\n",
        "# Bucle para descargar y guardar datos\n",
        "for key, value in dict_Empresas.items():\n",
        "    # Se descargan los ultimos 5 años.\n",
        "    Dataset = yf.download(value, start=dt.datetime.now() - dt.timedelta(days=5*365), end=dt.date.today())\n",
        "    \n",
        "    Dataset = Dataset[[\"Close\", \"Volume\"]]\n",
        "    # Dataset[\"Ticker\"] = value\n",
        "\n",
        "    # Se guardan en un archivo con el nombre de la empresa\n",
        "    Dataset.to_csv(f\"Datasets/{key}.csv\")\n",
        "\n",
        "    # Se imprime en pantalla un mensaje de confirmación\n",
        "    print(f\"Archivo {key} cargado exitosamente.\")\n"
      ]
    },
    {
      "attachments": {},
      "cell_type": "markdown",
      "metadata": {},
      "source": [
        "### SQL"
      ]
    },
    {
      "cell_type": "code",
      "execution_count": 89,
      "metadata": {},
      "outputs": [],
      "source": [
        "import sqlite3\n",
        "\n",
        "# Conexión a la base de datos\n",
        "conn = sqlite3.connect('./Database/test.db')\n",
        "conn.close()"
      ]
    },
    {
      "cell_type": "code",
      "execution_count": 90,
      "metadata": {},
      "outputs": [
        {
          "data": {
            "text/html": [
              "<div>\n",
              "<style scoped>\n",
              "    .dataframe tbody tr th:only-of-type {\n",
              "        vertical-align: middle;\n",
              "    }\n",
              "\n",
              "    .dataframe tbody tr th {\n",
              "        vertical-align: top;\n",
              "    }\n",
              "\n",
              "    .dataframe thead th {\n",
              "        text-align: right;\n",
              "    }\n",
              "</style>\n",
              "<table border=\"1\" class=\"dataframe\">\n",
              "  <thead>\n",
              "    <tr style=\"text-align: right;\">\n",
              "      <th></th>\n",
              "      <th>Close</th>\n",
              "      <th>Volume</th>\n",
              "    </tr>\n",
              "    <tr>\n",
              "      <th>Date</th>\n",
              "      <th></th>\n",
              "      <th></th>\n",
              "    </tr>\n",
              "  </thead>\n",
              "  <tbody>\n",
              "    <tr>\n",
              "      <th>2019-05-28</th>\n",
              "      <td>56.978001</td>\n",
              "      <td>20948000</td>\n",
              "    </tr>\n",
              "    <tr>\n",
              "      <th>2019-05-29</th>\n",
              "      <td>55.997002</td>\n",
              "      <td>36230000</td>\n",
              "    </tr>\n",
              "    <tr>\n",
              "      <th>2019-05-30</th>\n",
              "      <td>56.070499</td>\n",
              "      <td>18088000</td>\n",
              "    </tr>\n",
              "    <tr>\n",
              "      <th>2019-05-31</th>\n",
              "      <td>55.325001</td>\n",
              "      <td>31582000</td>\n",
              "    </tr>\n",
              "    <tr>\n",
              "      <th>2019-06-03</th>\n",
              "      <td>51.937000</td>\n",
              "      <td>96890000</td>\n",
              "    </tr>\n",
              "    <tr>\n",
              "      <th>...</th>\n",
              "      <td>...</td>\n",
              "      <td>...</td>\n",
              "    </tr>\n",
              "    <tr>\n",
              "      <th>2024-05-20</th>\n",
              "      <td>176.919998</td>\n",
              "      <td>22554400</td>\n",
              "    </tr>\n",
              "    <tr>\n",
              "      <th>2024-05-21</th>\n",
              "      <td>177.850006</td>\n",
              "      <td>16989400</td>\n",
              "    </tr>\n",
              "    <tr>\n",
              "      <th>2024-05-22</th>\n",
              "      <td>176.380005</td>\n",
              "      <td>17880000</td>\n",
              "    </tr>\n",
              "    <tr>\n",
              "      <th>2024-05-23</th>\n",
              "      <td>173.550003</td>\n",
              "      <td>21024900</td>\n",
              "    </tr>\n",
              "    <tr>\n",
              "      <th>2024-05-24</th>\n",
              "      <td>174.990005</td>\n",
              "      <td>16572500</td>\n",
              "    </tr>\n",
              "  </tbody>\n",
              "</table>\n",
              "<p>1259 rows × 2 columns</p>\n",
              "</div>"
            ],
            "text/plain": [
              "                 Close    Volume\n",
              "Date                            \n",
              "2019-05-28   56.978001  20948000\n",
              "2019-05-29   55.997002  36230000\n",
              "2019-05-30   56.070499  18088000\n",
              "2019-05-31   55.325001  31582000\n",
              "2019-06-03   51.937000  96890000\n",
              "...                ...       ...\n",
              "2024-05-20  176.919998  22554400\n",
              "2024-05-21  177.850006  16989400\n",
              "2024-05-22  176.380005  17880000\n",
              "2024-05-23  173.550003  21024900\n",
              "2024-05-24  174.990005  16572500\n",
              "\n",
              "[1259 rows x 2 columns]"
            ]
          },
          "execution_count": 90,
          "metadata": {},
          "output_type": "execute_result"
        }
      ],
      "source": [
        "Dataset\n",
        "#Que es?"
      ]
    },
    {
      "cell_type": "code",
      "execution_count": 91,
      "metadata": {},
      "outputs": [
        {
          "data": {
            "text/plain": [
              "['Amazon.csv', 'Alphabet.csv', 'Apple.csv', 'Tesla.csv', 'Microsoft.csv']"
            ]
          },
          "execution_count": 91,
          "metadata": {},
          "output_type": "execute_result"
        }
      ],
      "source": [
        "import os\n",
        "\n",
        "# Carpeta con los archivos CSV\n",
        "folder_path = './Datasets'\n",
        "\n",
        "# Obtener la lista de archivos en la carpeta\n",
        "files = os.listdir(folder_path)\n",
        "\n",
        "files"
      ]
    },
    {
      "cell_type": "code",
      "execution_count": 92,
      "metadata": {},
      "outputs": [
        {
          "data": {
            "text/html": [
              "<div>\n",
              "<style scoped>\n",
              "    .dataframe tbody tr th:only-of-type {\n",
              "        vertical-align: middle;\n",
              "    }\n",
              "\n",
              "    .dataframe tbody tr th {\n",
              "        vertical-align: top;\n",
              "    }\n",
              "\n",
              "    .dataframe thead th {\n",
              "        text-align: right;\n",
              "    }\n",
              "</style>\n",
              "<table border=\"1\" class=\"dataframe\">\n",
              "  <thead>\n",
              "    <tr style=\"text-align: right;\">\n",
              "      <th></th>\n",
              "      <th>Date</th>\n",
              "      <th>Close</th>\n",
              "      <th>Volume</th>\n",
              "      <th>Empresa</th>\n",
              "    </tr>\n",
              "  </thead>\n",
              "  <tbody>\n",
              "    <tr>\n",
              "      <th>0</th>\n",
              "      <td>2019-05-28</td>\n",
              "      <td>91.821503</td>\n",
              "      <td>64000000</td>\n",
              "      <td>Amazon</td>\n",
              "    </tr>\n",
              "    <tr>\n",
              "      <th>1</th>\n",
              "      <td>2019-05-29</td>\n",
              "      <td>90.959503</td>\n",
              "      <td>85580000</td>\n",
              "      <td>Amazon</td>\n",
              "    </tr>\n",
              "    <tr>\n",
              "      <th>2</th>\n",
              "      <td>2019-05-30</td>\n",
              "      <td>90.816002</td>\n",
              "      <td>62938000</td>\n",
              "      <td>Amazon</td>\n",
              "    </tr>\n",
              "    <tr>\n",
              "      <th>3</th>\n",
              "      <td>2019-05-31</td>\n",
              "      <td>88.753502</td>\n",
              "      <td>92376000</td>\n",
              "      <td>Amazon</td>\n",
              "    </tr>\n",
              "    <tr>\n",
              "      <th>4</th>\n",
              "      <td>2019-06-03</td>\n",
              "      <td>84.634499</td>\n",
              "      <td>181974000</td>\n",
              "      <td>Amazon</td>\n",
              "    </tr>\n",
              "  </tbody>\n",
              "</table>\n",
              "</div>"
            ],
            "text/plain": [
              "         Date      Close     Volume Empresa\n",
              "0  2019-05-28  91.821503   64000000  Amazon\n",
              "1  2019-05-29  90.959503   85580000  Amazon\n",
              "2  2019-05-30  90.816002   62938000  Amazon\n",
              "3  2019-05-31  88.753502   92376000  Amazon\n",
              "4  2019-06-03  84.634499  181974000  Amazon"
            ]
          },
          "execution_count": 92,
          "metadata": {},
          "output_type": "execute_result"
        }
      ],
      "source": [
        "# Lista para almacenar los DataFrames de cada archivo CSV\n",
        "dfs = []\n",
        "\n",
        "# Leer cada archivo CSV en un DataFrame y agregarlo a la lista\n",
        "for file in files:\n",
        "    if file.endswith('.csv'):\n",
        "        file_path = os.path.join(folder_path, file)\n",
        "        df = pd.read_csv(file_path)\n",
        "        df['Empresa'] = file.split('.')[0]\n",
        "        dfs.append(df)\n",
        "\n",
        "# Concatenar los DataFrames en uno solo\n",
        "result = pd.concat(dfs, ignore_index=True)\n",
        "\n",
        "# Imprimir el resultado\n",
        "result.head()"
      ]
    },
    {
      "cell_type": "code",
      "execution_count": 93,
      "metadata": {},
      "outputs": [
        {
          "name": "stdout",
          "output_type": "stream",
          "text": [
            "Connected to SQLite\n"
          ]
        }
      ],
      "source": [
        "DB = './Database/stock_db.db'\n",
        "conn = sqlite3.connect(DB)\n",
        "print(\"Connected to SQLite\")\n",
        "conn.close()\n"
      ]
    },
    {
      "cell_type": "code",
      "execution_count": 94,
      "metadata": {},
      "outputs": [
        {
          "name": "stdout",
          "output_type": "stream",
          "text": [
            "Connected to SQLite\n"
          ]
        }
      ],
      "source": [
        "DB = './Database/stock_db.db'\n",
        "conn = sqlite3.connect(DB)\n",
        "print(\"Connected to SQLite\")\n",
        "result.to_sql('main', conn, schema=None, \n",
        "              if_exists='append')\n",
        "conn.close()"
      ]
    },
    {
      "cell_type": "code",
      "execution_count": 95,
      "metadata": {},
      "outputs": [
        {
          "name": "stdout",
          "output_type": "stream",
          "text": [
            "Connected to SQLite\n"
          ]
        },
        {
          "data": {
            "text/plain": [
              "6295"
            ]
          },
          "execution_count": 95,
          "metadata": {},
          "output_type": "execute_result"
        }
      ],
      "source": [
        "DB = './Database/stock_db.db'\n",
        "conn = sqlite3.connect(DB)\n",
        "print(\"Connected to SQLite\")\n",
        "result.to_sql('main', conn, schema=None, \n",
        "              if_exists='replace')"
      ]
    },
    {
      "cell_type": "code",
      "execution_count": 96,
      "metadata": {},
      "outputs": [],
      "source": [
        "# Creo una función que haga todo:\n",
        "\n",
        "def write_sql_main(DB, df, table):\n",
        "\t\"\"\"Esta funcion inserta masivamente un df o una lista de tuplas en SQL.\"\"\"\n",
        "\ttry:\n",
        "\t\tconn = sqlite3.connect(DB)\n",
        "\t\tprint(\"Connected to SQLite\")\n",
        "\t\tdf.to_sql(table, conn, schema=None, if_exists='append', index=False, index_label=None, chunksize=None, dtype=None, method=None)\n",
        "\t\tresult = 'ok'\n",
        "\t\tdf.to_sql(table, conn, schema=None, if_exists='replace', index=False, index_label=None, chunksize=None, dtype=None, method=None)\n",
        "\texcept sqlite3.Error as error:\n",
        "\t\tprint(\"Failed to insert multiple records into sqlite table\", error)\n",
        "\t\tresult = 'failed'\n",
        "\tfinally:\n",
        "\t\tif conn:\n",
        "\t\t\tconn.close()\n",
        "\t\t\tprint(\"The SQLite connection is closed\")\n",
        "\treturn result"
      ]
    },
    {
      "cell_type": "code",
      "execution_count": 97,
      "metadata": {},
      "outputs": [
        {
          "name": "stdout",
          "output_type": "stream",
          "text": [
            "Connected to SQLite\n",
            "The SQLite connection is closed\n"
          ]
        },
        {
          "data": {
            "text/plain": [
              "'ok'"
            ]
          },
          "execution_count": 97,
          "metadata": {},
          "output_type": "execute_result"
        }
      ],
      "source": [
        "write_sql_main(DB=DB, df = result, table = 'main2')"
      ]
    },
    {
      "cell_type": "code",
      "execution_count": 98,
      "metadata": {},
      "outputs": [
        {
          "name": "stdout",
          "output_type": "stream",
          "text": [
            "Connected to SQLite\n",
            "The SQLite connection is closed\n"
          ]
        },
        {
          "data": {
            "text/plain": [
              "'ok'"
            ]
          },
          "execution_count": 98,
          "metadata": {},
          "output_type": "execute_result"
        }
      ],
      "source": [
        "write_sql_main(DB=DB, df = result, table = 'trabajo_practico_yhf')"
      ]
    }
  ],
  "metadata": {
    "colab": {
      "provenance": []
    },
    "kernelspec": {
      "display_name": "Python 3",
      "language": "python",
      "name": "python3"
    },
    "language_info": {
      "codemirror_mode": {
        "name": "ipython",
        "version": 3
      },
      "file_extension": ".py",
      "mimetype": "text/x-python",
      "name": "python",
      "nbconvert_exporter": "python",
      "pygments_lexer": "ipython3",
      "version": "3.11.5"
    },
    "vscode": {
      "interpreter": {
        "hash": "270c9063d07a28851ba69880084a5f01ac42db4cf4cee14f4c49c73ecb745236"
      }
    }
  },
  "nbformat": 4,
  "nbformat_minor": 0
}
