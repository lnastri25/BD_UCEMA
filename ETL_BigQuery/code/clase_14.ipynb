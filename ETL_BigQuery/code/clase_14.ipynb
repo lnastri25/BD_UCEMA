{
  "cells": [
    {
      "attachments": {},
      "cell_type": "markdown",
      "metadata": {
        "colab": {
          "base_uri": "https://localhost:8080/"
        },
        "id": "kH2pZDGs8GLT",
        "outputId": "0a790e06-1262-4f84-a181-09f08db19c77"
      },
      "source": [
        "# Cloud Storage"
      ]
    },
    {
      "cell_type": "code",
      "execution_count": 2,
      "metadata": {
        "id": "sRISs0cH-l50"
      },
      "outputs": [],
      "source": [
        "import sqlite3\n",
        "# librería para manipular dataframes\n",
        "import pandas as pd\n",
        "# librería para manipular fechas\n",
        "import datetime as dt\n",
        "# librería para conectar a Google Cloud Platform\n",
        "from google.cloud import storage"
      ]
    },
    {
      "cell_type": "code",
      "execution_count": 3,
      "metadata": {},
      "outputs": [
        {
          "data": {
            "text/html": [
              "<div>\n",
              "<style scoped>\n",
              "    .dataframe tbody tr th:only-of-type {\n",
              "        vertical-align: middle;\n",
              "    }\n",
              "\n",
              "    .dataframe tbody tr th {\n",
              "        vertical-align: top;\n",
              "    }\n",
              "\n",
              "    .dataframe thead th {\n",
              "        text-align: right;\n",
              "    }\n",
              "</style>\n",
              "<table border=\"1\" class=\"dataframe\">\n",
              "  <thead>\n",
              "    <tr style=\"text-align: right;\">\n",
              "      <th></th>\n",
              "      <th>index</th>\n",
              "      <th>Date</th>\n",
              "      <th>Open</th>\n",
              "      <th>High</th>\n",
              "      <th>Low</th>\n",
              "      <th>Close</th>\n",
              "      <th>Adj Close</th>\n",
              "      <th>Volume</th>\n",
              "      <th>Empresa</th>\n",
              "    </tr>\n",
              "  </thead>\n",
              "  <tbody>\n",
              "    <tr>\n",
              "      <th>0</th>\n",
              "      <td>0</td>\n",
              "      <td>2023-01-03</td>\n",
              "      <td>130.279999</td>\n",
              "      <td>130.899994</td>\n",
              "      <td>124.169998</td>\n",
              "      <td>125.070000</td>\n",
              "      <td>124.048050</td>\n",
              "      <td>112117500</td>\n",
              "      <td>Apple</td>\n",
              "    </tr>\n",
              "    <tr>\n",
              "      <th>1</th>\n",
              "      <td>1</td>\n",
              "      <td>2023-01-04</td>\n",
              "      <td>126.889999</td>\n",
              "      <td>128.660004</td>\n",
              "      <td>125.080002</td>\n",
              "      <td>126.360001</td>\n",
              "      <td>125.327507</td>\n",
              "      <td>89113600</td>\n",
              "      <td>Apple</td>\n",
              "    </tr>\n",
              "    <tr>\n",
              "      <th>2</th>\n",
              "      <td>2</td>\n",
              "      <td>2023-01-05</td>\n",
              "      <td>127.129997</td>\n",
              "      <td>127.769997</td>\n",
              "      <td>124.760002</td>\n",
              "      <td>125.019997</td>\n",
              "      <td>123.998459</td>\n",
              "      <td>80962700</td>\n",
              "      <td>Apple</td>\n",
              "    </tr>\n",
              "    <tr>\n",
              "      <th>3</th>\n",
              "      <td>3</td>\n",
              "      <td>2023-01-06</td>\n",
              "      <td>126.010002</td>\n",
              "      <td>130.289993</td>\n",
              "      <td>124.889999</td>\n",
              "      <td>129.619995</td>\n",
              "      <td>128.560867</td>\n",
              "      <td>87754700</td>\n",
              "      <td>Apple</td>\n",
              "    </tr>\n",
              "    <tr>\n",
              "      <th>4</th>\n",
              "      <td>4</td>\n",
              "      <td>2023-01-09</td>\n",
              "      <td>130.470001</td>\n",
              "      <td>133.410004</td>\n",
              "      <td>129.889999</td>\n",
              "      <td>130.149994</td>\n",
              "      <td>129.086533</td>\n",
              "      <td>70790800</td>\n",
              "      <td>Apple</td>\n",
              "    </tr>\n",
              "  </tbody>\n",
              "</table>\n",
              "</div>"
            ],
            "text/plain": [
              "   index        Date        Open        High         Low       Close  \\\n",
              "0      0  2023-01-03  130.279999  130.899994  124.169998  125.070000   \n",
              "1      1  2023-01-04  126.889999  128.660004  125.080002  126.360001   \n",
              "2      2  2023-01-05  127.129997  127.769997  124.760002  125.019997   \n",
              "3      3  2023-01-06  126.010002  130.289993  124.889999  129.619995   \n",
              "4      4  2023-01-09  130.470001  133.410004  129.889999  130.149994   \n",
              "\n",
              "    Adj Close     Volume Empresa  \n",
              "0  124.048050  112117500   Apple  \n",
              "1  125.327507   89113600   Apple  \n",
              "2  123.998459   80962700   Apple  \n",
              "3  128.560867   87754700   Apple  \n",
              "4  129.086533   70790800   Apple  "
            ]
          },
          "execution_count": 3,
          "metadata": {},
          "output_type": "execute_result"
        }
      ],
      "source": [
        "#Me conecto a la Base de Datos\n",
        "conn = sqlite3.connect('../local/database/stock_db.db')\n",
        "main_table = pd.read_sql_query(\"SELECT * FROM main\", conn)\n",
        "main_table.head()"
      ]
    },
    {
      "cell_type": "code",
      "execution_count": 4,
      "metadata": {
        "id": "l_tkEsbWDusy"
      },
      "outputs": [],
      "source": [
        "# Conexión con la plataforma de Google\n",
        "storage_client = storage.Client.from_service_account_json('../local/tokens/gcp_token_clase.json')\n",
        "\n",
        "# Conexión con el bucket\n",
        "bucket = storage_client.get_bucket('bucket_clase_ucema')"
      ]
    },
    {
      "cell_type": "code",
      "execution_count": 5,
      "metadata": {},
      "outputs": [
        {
          "data": {
            "text/plain": [
              "<Bucket: bucket_clase_ucema>"
            ]
          },
          "execution_count": 5,
          "metadata": {},
          "output_type": "execute_result"
        }
      ],
      "source": [
        "bucket"
      ]
    },
    {
      "cell_type": "code",
      "execution_count": 6,
      "metadata": {},
      "outputs": [
        {
          "name": "stdout",
          "output_type": "stream",
          "text": [
            "13 - BIG DATA - Practica - Clase 13.pptx.pdf\n",
            "clase13envivo_1.csv\n",
            "clase13envivo_2.csv\n",
            "clasevivoopcion3_2023-06-15 10:23:10.csv\n",
            "file_2023-06-15 01:13:10.csv\n",
            "file_2023-06-15 01:18:15.csv\n",
            "file_cloudf_2023-06-15 01:56:19.csv\n",
            "filecloudf_2023-06-15 01:57:27.csv\n",
            "filecloudf_2023-06-15 01:58:04.csv\n",
            "filecloudf_2023-06-15 09:23:41.csv\n",
            "files2bq/\n"
          ]
        }
      ],
      "source": [
        "# Itera sobre los objetos en el bucket\n",
        "blobs = bucket.list_blobs()\n",
        "for blob in blobs:\n",
        "    print(blob.name)"
      ]
    },
    {
      "cell_type": "code",
      "execution_count": 7,
      "metadata": {},
      "outputs": [],
      "source": [
        "# Guardo el archivo\n",
        "main_table.to_csv('../local/aux_data/main_table_aux.csv', index=False)\n",
        "# Ruta y archivo dentro del bucket donde se van a subir el dataset\n",
        "\n",
        "#Fecha y hora como string:\n",
        "datetime = dt.datetime.now().strftime(\"%Y-%m-%d %H:%M:%S\")\n",
        "\n",
        "blob = bucket.blob(f'clasevivoopcion3_{datetime}.csv')\n",
        "\n",
        "# Ruta de donde se lee el archivo para enviar\n",
        "blob.upload_from_filename('../local/aux_data/main_table_aux.csv', content_type='text/csv')"
      ]
    },
    {
      "cell_type": "code",
      "execution_count": 8,
      "metadata": {},
      "outputs": [
        {
          "name": "stdout",
          "output_type": "stream",
          "text": [
            "13 - BIG DATA - Practica - Clase 13.pptx.pdf\n",
            "clase13envivo_1.csv\n",
            "clase13envivo_2.csv\n",
            "clasevivoopcion3_2023-06-15 10:23:10.csv\n",
            "clasevivoopcion3_2024-06-24 00:40:37.csv\n",
            "file_2023-06-15 01:13:10.csv\n",
            "file_2023-06-15 01:18:15.csv\n",
            "file_cloudf_2023-06-15 01:56:19.csv\n",
            "filecloudf_2023-06-15 01:57:27.csv\n",
            "filecloudf_2023-06-15 01:58:04.csv\n",
            "filecloudf_2023-06-15 09:23:41.csv\n",
            "files2bq/\n"
          ]
        }
      ],
      "source": [
        "# Itera sobre los objetos en el bucket\n",
        "blobs = bucket.list_blobs()\n",
        "for blob in blobs:\n",
        "    print(blob.name)"
      ]
    },
    {
      "cell_type": "code",
      "execution_count": null,
      "metadata": {},
      "outputs": [],
      "source": []
    }
  ],
  "metadata": {
    "colab": {
      "provenance": []
    },
    "kernelspec": {
      "display_name": "Python 3",
      "language": "python",
      "name": "python3"
    },
    "language_info": {
      "codemirror_mode": {
        "name": "ipython",
        "version": 3
      },
      "file_extension": ".py",
      "mimetype": "text/x-python",
      "name": "python",
      "nbconvert_exporter": "python",
      "pygments_lexer": "ipython3",
      "version": "3.11.5"
    },
    "vscode": {
      "interpreter": {
        "hash": "270c9063d07a28851ba69880084a5f01ac42db4cf4cee14f4c49c73ecb745236"
      }
    }
  },
  "nbformat": 4,
  "nbformat_minor": 0
}
